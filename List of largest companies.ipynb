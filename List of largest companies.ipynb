{
 "cells": [
  {
   "cell_type": "code",
   "execution_count": 81,
   "id": "b58a7737",
   "metadata": {},
   "outputs": [],
   "source": [
    "from bs4 import BeautifulSoup\n",
    "import pandas as pd\n",
    "import requests\n",
    "url = 'https://en.wikipedia.org/wiki/List_of_largest_companies_in_the_United_States_by_revenue'\n",
    "page = requests.get(url)\n",
    "soup = BeautifulSoup(page.text, 'html')\n",
    "data = soup.find_all('tr')\n",
    "df1 = [[cell.text.strip() for cell in row.find_all('td')] for row in data]\n",
    "\n",
    "df1 = pd.DataFrame(df1)\n"
   ]
  },
  {
   "cell_type": "code",
   "execution_count": 255,
   "id": "7755fd91",
   "metadata": {},
   "outputs": [],
   "source": [
    "df = df1.copy()"
   ]
  },
  {
   "cell_type": "code",
   "execution_count": 256,
   "id": "894c0890",
   "metadata": {},
   "outputs": [],
   "source": [
    "df.columns = ['ranks', 'name', 'industry', 'revenue', 'revenue_growth', 'num_employee', 'headquarters']"
   ]
  },
  {
   "cell_type": "code",
   "execution_count": 257,
   "id": "dee1caa4",
   "metadata": {},
   "outputs": [],
   "source": [
    "df = df.dropna()"
   ]
  },
  {
   "cell_type": "code",
   "execution_count": 258,
   "id": "fd1b8e9e",
   "metadata": {},
   "outputs": [],
   "source": [
    "df['city'] = df['headquarters'].apply(lambda x: x.split(',')[0])\n",
    "\n",
    "df['state'] = df['headquarters'].str.split(',').str[1].str.strip()"
   ]
  },
  {
   "cell_type": "code",
   "execution_count": 259,
   "id": "a7488ca7",
   "metadata": {},
   "outputs": [],
   "source": [
    "df= df.drop('headquarters', axis = 1)\n"
   ]
  },
  {
   "cell_type": "code",
   "execution_count": 260,
   "id": "9a1e4885",
   "metadata": {},
   "outputs": [],
   "source": [
    "df['revenue']= df['revenue'].str.replace(',', '').astype(int)"
   ]
  },
  {
   "cell_type": "code",
   "execution_count": 261,
   "id": "795d169a",
   "metadata": {},
   "outputs": [],
   "source": [
    "# df['revenue_growth'] = df['revenue_growth'].str.strip('%')\n",
    "df['revenue_growth'] = df['revenue_growth'].str.strip('%').astype(float)\n"
   ]
  },
  {
   "cell_type": "code",
   "execution_count": 262,
   "id": "ecdd71c5",
   "metadata": {},
   "outputs": [],
   "source": [
    " df['revenue_growth'] = df['revenue_growth'].round().astype(int)"
   ]
  },
  {
   "cell_type": "code",
   "execution_count": 277,
   "id": "a1f6c619",
   "metadata": {},
   "outputs": [],
   "source": [
    "# df['num_employee'] = df['num_employee'].str.replace(',', '')\n",
    "# df['num_employee'] = df['num_employee'].str.replace('4000[2]', '4000')\n",
    "\n",
    "df['num_employee'] = df['num_employee'].str.replace(',', '').str.replace('4000[2]', '4000')\n"
   ]
  },
  {
   "cell_type": "code",
   "execution_count": 278,
   "id": "8b4b2051",
   "metadata": {},
   "outputs": [],
   "source": [
    "df['num_employee'] = df['num_employee'].astype(int)"
   ]
  },
  {
   "cell_type": "code",
   "execution_count": 286,
   "id": "a00ac30c",
   "metadata": {},
   "outputs": [],
   "source": [
    "df.to_csv('Fortune_Companies.csv', index=False)\n"
   ]
  }
 ],
 "metadata": {
  "kernelspec": {
   "display_name": "Python 3 (ipykernel)",
   "language": "python",
   "name": "python3"
  },
  "language_info": {
   "codemirror_mode": {
    "name": "ipython",
    "version": 3
   },
   "file_extension": ".py",
   "mimetype": "text/x-python",
   "name": "python",
   "nbconvert_exporter": "python",
   "pygments_lexer": "ipython3",
   "version": "3.11.4"
  }
 },
 "nbformat": 4,
 "nbformat_minor": 5
}
